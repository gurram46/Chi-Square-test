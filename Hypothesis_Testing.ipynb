{
  "nbformat": 4,
  "nbformat_minor": 0,
  "metadata": {
    "colab": {
      "provenance": [],
      "authorship_tag": "ABX9TyOWsf+eI3isvbe9kOYKGnuQ",
      "include_colab_link": true
    },
    "kernelspec": {
      "name": "python3",
      "display_name": "Python 3"
    },
    "language_info": {
      "name": "python"
    }
  },
  "cells": [
    {
      "cell_type": "markdown",
      "metadata": {
        "id": "view-in-github",
        "colab_type": "text"
      },
      "source": [
        "<a href=\"https://colab.research.google.com/github/gurram46/Chi-Square-test/blob/main/Hypothesis_Testing.ipynb\" target=\"_parent\"><img src=\"https://colab.research.google.com/assets/colab-badge.svg\" alt=\"Open In Colab\"/></a>"
      ]
    },
    {
      "cell_type": "markdown",
      "source": [
        "# Hypothesis Testing\n"
      ],
      "metadata": {
        "id": "B-xy2QQbFXV2"
      }
    },
    {
      "cell_type": "markdown",
      "source": [
        "Background:\n",
        "\n",
        "Bombay hospitality Ltd. operates a franchise model for producing exotic Norwegian dinners throughout New England. The operating cost for a franchise in a week (W) is given by the equation W = $1,000 + $5X, where X represents the number of units produced in a week. Recent feedback from restaurant owners suggests that this cost model may no longer be accurate, as their observed weekly operating costs are higher.\n",
        "\n",
        "Objective:\n",
        "\n",
        "To investigate the restaurant owners' claim about the increase in weekly operating costs using hypothesis testing.\n",
        "\n",
        "Data Provided:\n",
        "\n",
        "The theoretical weekly operating cost model: W = $1,000 + $5X\n",
        "Sample of 25 restaurants with a mean weekly cost of Rs. 3,050\n",
        "Number of units produced in a week (X) follows a normal distribution with a mean (μ) of 600 units and a standard deviation (σ) of 25 units\n"
      ],
      "metadata": {
        "id": "JgEZJRQPFuHd"
      }
    },
    {
      "cell_type": "markdown",
      "source": [
        "# Assignment Tasks:\n"
      ],
      "metadata": {
        "id": "MATiEi53GCIN"
      }
    },
    {
      "cell_type": "markdown",
      "source": [
        "**State the Hypotheses statement :**\n",
        "\n"
      ],
      "metadata": {
        "id": "8MSMjWw-GJPz"
      }
    },
    {
      "cell_type": "markdown",
      "source": [
        "The goal is to test if the actual weekly operating costs exceed the cost model. The hypotheses are:\n",
        "\n",
        "Null Hypothesis (𝐻0): The actual mean weekly operating cost is equal to or less than the theoretical cost given by the model.\n",
        "\n",
        "Alternative Hypothesis (𝐻1): The actual mean weekly operating cost is higher than the theoretical cost.\n",
        "\n",
        "SO,\n",
        "\n",
        "H0: mue(u)=< theoretical cost\n",
        "\n",
        "H1: mue(u)> theoretical cost\n"
      ],
      "metadata": {
        "id": "gy_ZxwRyGRJp"
      }
    },
    {
      "cell_type": "markdown",
      "source": [
        " Calculate the Test Statistic:\n",
        "\n",
        "Use the following formula to calculate the test statistic (t):\n",
        "\n",
        "where:\n",
        "\n",
        "ˉxˉ = sample mean weekly cost (Rs. 3,050)\n",
        "\n",
        "μ = theoretical mean weekly cost according to the cost model (W = $1,000 + $5X for X = 600 units)\n",
        "\n",
        "σ = 5*25 units\n",
        "\n",
        "n = sample size (25 restaurants)\n"
      ],
      "metadata": {
        "id": "CbOUO0-TJm6q"
      }
    },
    {
      "cell_type": "code",
      "source": [
        "import pandas as pd\n",
        "import numpy as np\n",
        "import scipy.stats as stats"
      ],
      "metadata": {
        "id": "Zm2RxxpEGQrM"
      },
      "execution_count": 6,
      "outputs": []
    },
    {
      "cell_type": "code",
      "source": [
        "sample_mean = 3050\n",
        "theoretical_mean = 1000+5*600\n",
        "sample_size=25\n",
        "standard_deviation=5*25"
      ],
      "metadata": {
        "id": "1U3R5ixEMRBE"
      },
      "execution_count": 2,
      "outputs": []
    },
    {
      "cell_type": "code",
      "source": [
        "print(sample_mean)\n",
        "print(theoretical_mean)\n",
        "print(sample_size)\n",
        "print(standard_deviation)"
      ],
      "metadata": {
        "colab": {
          "base_uri": "https://localhost:8080/"
        },
        "id": "Mp3shEm5M0UV",
        "outputId": "03bf0858-65e1-42cd-86bf-227a591637a8"
      },
      "execution_count": 4,
      "outputs": [
        {
          "output_type": "stream",
          "name": "stdout",
          "text": [
            "3050\n",
            "4000\n",
            "25\n",
            "125\n"
          ]
        }
      ]
    },
    {
      "cell_type": "markdown",
      "source": [
        "So,\n",
        "\n",
        "sample mean = 3050\n",
        "\n",
        "theoretical mean = 4000\n",
        "\n",
        "sample mean = 25\n",
        "\n",
        "standard deviation = 125"
      ],
      "metadata": {
        "id": "Fad3FJnZNHu-"
      }
    },
    {
      "cell_type": "code",
      "source": [
        "std_error =standard_deviation/np.sqrt(sample_size)"
      ],
      "metadata": {
        "id": "9Dlmv4XLM4Kz"
      },
      "execution_count": 8,
      "outputs": []
    },
    {
      "cell_type": "code",
      "source": [
        "std_error"
      ],
      "metadata": {
        "colab": {
          "base_uri": "https://localhost:8080/"
        },
        "id": "Yywq06iGO2Ci",
        "outputId": "7fa105a1-bc24-4688-93df-7083762a0620"
      },
      "execution_count": 9,
      "outputs": [
        {
          "output_type": "execute_result",
          "data": {
            "text/plain": [
              "25.0"
            ]
          },
          "metadata": {},
          "execution_count": 9
        }
      ]
    },
    {
      "cell_type": "code",
      "source": [
        "t_value=(sample_mean-theoretical_mean)/std_error"
      ],
      "metadata": {
        "id": "gzN0TE7aPOlI"
      },
      "execution_count": 10,
      "outputs": []
    },
    {
      "cell_type": "code",
      "source": [
        "t_value"
      ],
      "metadata": {
        "colab": {
          "base_uri": "https://localhost:8080/"
        },
        "id": "43mjtoeTPW0r",
        "outputId": "f67db9b2-66d4-4a04-af9f-0ba6e9b460a0"
      },
      "execution_count": 11,
      "outputs": [
        {
          "output_type": "execute_result",
          "data": {
            "text/plain": [
              "-38.0"
            ]
          },
          "metadata": {},
          "execution_count": 11
        }
      ]
    },
    {
      "cell_type": "markdown",
      "source": [
        "**Determine the Critical Value:**\n",
        "\n",
        "Using the alpha level of 5% (α = 0.05), determine the critical value from the standard normal (Z) distribution table."
      ],
      "metadata": {
        "id": "143GapXnP-05"
      }
    },
    {
      "cell_type": "code",
      "source": [
        "alpha = 0.05"
      ],
      "metadata": {
        "id": "CPgtI-AqPYu3"
      },
      "execution_count": 14,
      "outputs": []
    },
    {
      "cell_type": "code",
      "source": [
        "from scipy.stats import norm\n",
        "critical_value = norm.ppf(1-alpha)"
      ],
      "metadata": {
        "id": "5xo8NGgxQfId"
      },
      "execution_count": 15,
      "outputs": []
    },
    {
      "cell_type": "code",
      "source": [
        "critical_value"
      ],
      "metadata": {
        "colab": {
          "base_uri": "https://localhost:8080/"
        },
        "id": "wm1uTS4OQ6bm",
        "outputId": "56cc17d8-d654-4945-bba1-a73b0e64a37c"
      },
      "execution_count": 16,
      "outputs": [
        {
          "output_type": "execute_result",
          "data": {
            "text/plain": [
              "1.6448536269514722"
            ]
          },
          "metadata": {},
          "execution_count": 16
        }
      ]
    },
    {
      "cell_type": "markdown",
      "source": [
        "We Accept null hypothesis because t-value is lesser then critical-value\n",
        "\n",
        "so Ho>H1"
      ],
      "metadata": {
        "id": "1Hg8yKpXR7vo"
      }
    },
    {
      "cell_type": "markdown",
      "source": [
        "**Make a Decision:**\n",
        "\n",
        "Compare the test statistic with the critical value to decide whether to reject the null hypothesis.\n"
      ],
      "metadata": {
        "id": "OFNaowKVRZh5"
      }
    },
    {
      "cell_type": "code",
      "source": [
        "if t_value > critical_value:\n",
        "    print(\"Reject the null hypothesis. The actual mean weekly operating cost is higher than the theoretical cost.\")\n",
        "else:\n",
        "    print(\"Fail to reject the null hypothesis. There is no significant evidence to suggest the actual mean weekly operating cost is higher than the theoretical cost.\")"
      ],
      "metadata": {
        "colab": {
          "base_uri": "https://localhost:8080/"
        },
        "id": "Mim-dWzaQ9sJ",
        "outputId": "e3b6b781-390b-4196-dace-4cf4fff31a87"
      },
      "execution_count": 17,
      "outputs": [
        {
          "output_type": "stream",
          "name": "stdout",
          "text": [
            "Fail to reject the null hypothesis. There is no significant evidence to suggest the actual mean weekly operating cost is higher than the theoretical cost.\n"
          ]
        }
      ]
    },
    {
      "cell_type": "markdown",
      "source": [
        "**Conclusion:**\n",
        "\n",
        "Based on the decision in step 4, conclude whether there is strong evidence to support the restaurant owners' claim that the weekly operating costs are higher than the model suggests.\n"
      ],
      "metadata": {
        "id": "VIa5dPNPS0jM"
      }
    },
    {
      "cell_type": "code",
      "source": [
        "if t_value > critical_value:\n",
        "  print(\"There is strong evidence to support the restaurant owners' claim that the weekly operating costs are higher than the model suggests.\")\n",
        "else:\n",
        "  print(\"There is no strong evidence to support the restaurant owners' claim that the weekly opersting costs are higher then the model suggests\")\n"
      ],
      "metadata": {
        "colab": {
          "base_uri": "https://localhost:8080/"
        },
        "id": "ris0iVPLRwhO",
        "outputId": "9d18771c-fc5d-4940-df0f-2d62ffb009f7"
      },
      "execution_count": 18,
      "outputs": [
        {
          "output_type": "stream",
          "name": "stdout",
          "text": [
            "There is no strong evidence to support the restaurant owners' claim that the weekly opersting costs are higher then the model suggests\n"
          ]
        }
      ]
    },
    {
      "cell_type": "code",
      "source": [],
      "metadata": {
        "id": "LVdP2zuaUBXS"
      },
      "execution_count": null,
      "outputs": []
    }
  ]
}